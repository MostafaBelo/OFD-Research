{
 "cells": [
  {
   "cell_type": "markdown",
   "id": "004fe2bf",
   "metadata": {},
   "source": [
    "# Imports"
   ]
  },
  {
   "cell_type": "code",
   "execution_count": 1,
   "id": "6d3ebee0",
   "metadata": {},
   "outputs": [],
   "source": [
    "import os\n",
    "import sys\n",
    "\n",
    "import numpy as np\n",
    "from matplotlib import pyplot as plt\n",
    "import pandas as pd\n",
    "\n",
    "import math\n",
    "import time\n",
    "import ipywidgets as widgets\n",
    "\n",
    "import cv2\n",
    "\n",
    "import datetime\n",
    "from zoneinfo import ZoneInfo\n",
    "\n",
    "import pickle\n",
    "\n",
    "from tqdm import tqdm"
   ]
  },
  {
   "cell_type": "markdown",
   "id": "ddf8d3f9",
   "metadata": {},
   "source": [
    "# Utils"
   ]
  },
  {
   "cell_type": "code",
   "execution_count": 2,
   "id": "cdf6a232",
   "metadata": {},
   "outputs": [],
   "source": [
    "def timestamp_to_datetime(timestamp):\n",
    "    return datetime.datetime.fromtimestamp(timestamp, tz=ZoneInfo(\"Asia/Shanghai\"))"
   ]
  },
  {
   "cell_type": "markdown",
   "id": "5f801cb0",
   "metadata": {},
   "source": [
    "# Dataset"
   ]
  },
  {
   "cell_type": "code",
   "execution_count": 3,
   "id": "99d8914c",
   "metadata": {},
   "outputs": [],
   "source": [
    "order_df = pd.read_csv(\"Meituan-INFORMS-TSL-Research-Challenge/all_waybill_info_meituan_0322.csv\")\n",
    "# courier_df = pd.read_csv(\"Meituan-INFORMS-TSL-Research-Challenge/courier_wave_info_meituan.csv\")\n",
    "# assignment_order_df = pd.read_csv(\"Meituan-INFORMS-TSL-Research-Challenge/dispatch_waybill_meituan.csv\")\n",
    "# assignment_courier_df = pd.read_csv(\"Meituan-INFORMS-TSL-Research-Challenge/dispatch_rider_meituan.csv\")\n",
    "\n",
    "if os.path.exists(\"data/courier_timeline.csv\"):\n",
    "    courier_timeline = pd.read_csv(\"data/courier_timeline.csv\")"
   ]
  },
  {
   "cell_type": "code",
   "execution_count": 4,
   "id": "df4c9533",
   "metadata": {},
   "outputs": [
    {
     "name": "stdout",
     "output_type": "stream",
     "text": [
      "<class 'pandas.core.frame.DataFrame'>\n",
      "RangeIndex: 654343 entries, 0 to 654342\n",
      "Data columns (total 24 columns):\n",
      " #   Column                      Non-Null Count   Dtype\n",
      "---  ------                      --------------   -----\n",
      " 0   Unnamed: 0                  654343 non-null  int64\n",
      " 1   dt                          654343 non-null  int64\n",
      " 2   order_id                    654343 non-null  int64\n",
      " 3   waybill_id                  654343 non-null  int64\n",
      " 4   courier_id                  654343 non-null  int64\n",
      " 5   da_id                       654343 non-null  int64\n",
      " 6   is_courier_grabbed          654343 non-null  int64\n",
      " 7   is_weekend                  654343 non-null  int64\n",
      " 8   estimate_arrived_time       654343 non-null  int64\n",
      " 9   is_prebook                  654343 non-null  int64\n",
      " 10  poi_id                      654343 non-null  int64\n",
      " 11  sender_lng                  654343 non-null  int64\n",
      " 12  sender_lat                  654343 non-null  int64\n",
      " 13  recipient_lng               654343 non-null  int64\n",
      " 14  recipient_lat               654343 non-null  int64\n",
      " 15  grab_lng                    654343 non-null  int64\n",
      " 16  grab_lat                    654343 non-null  int64\n",
      " 17  dispatch_time               654343 non-null  int64\n",
      " 18  grab_time                   654343 non-null  int64\n",
      " 19  fetch_time                  654343 non-null  int64\n",
      " 20  arrive_time                 654343 non-null  int64\n",
      " 21  estimate_meal_prepare_time  654343 non-null  int64\n",
      " 22  order_push_time             654343 non-null  int64\n",
      " 23  platform_order_time         654343 non-null  int64\n",
      "dtypes: int64(24)\n",
      "memory usage: 119.8 MB\n"
     ]
    }
   ],
   "source": [
    "order_df.info()"
   ]
  },
  {
   "cell_type": "code",
   "execution_count": 5,
   "id": "0e267b1f",
   "metadata": {},
   "outputs": [
    {
     "name": "stdout",
     "output_type": "stream",
     "text": [
      "<class 'pandas.core.frame.DataFrame'>\n",
      "Index: 568546 entries, 1 to 654342\n",
      "Data columns (total 13 columns):\n",
      " #   Column         Non-Null Count   Dtype\n",
      "---  ------         --------------   -----\n",
      " 0   order_id       568546 non-null  int64\n",
      " 1   courier_id     568546 non-null  int64\n",
      " 2   dt             568546 non-null  int64\n",
      " 3   da_id          568546 non-null  int64\n",
      " 4   sender_lng     568546 non-null  int64\n",
      " 5   sender_lat     568546 non-null  int64\n",
      " 6   recipient_lng  568546 non-null  int64\n",
      " 7   recipient_lat  568546 non-null  int64\n",
      " 8   grab_lng       568546 non-null  int64\n",
      " 9   grab_lat       568546 non-null  int64\n",
      " 10  grab_time      568546 non-null  int64\n",
      " 11  fetch_time     568546 non-null  int64\n",
      " 12  arrive_time    568546 non-null  int64\n",
      "dtypes: int64(13)\n",
      "memory usage: 60.7 MB\n"
     ]
    }
   ],
   "source": [
    "courier_order_timeline = order_df[order_df[\"is_courier_grabbed\"] == 1][[\"order_id\", \"courier_id\", \"dt\", \"da_id\", \"sender_lng\", \"sender_lat\", \"recipient_lng\", \"recipient_lat\", \"grab_lng\", \"grab_lat\", \"grab_time\", \"fetch_time\", \"arrive_time\"]]\n",
    "courier_order_timeline.info()"
   ]
  },
  {
   "cell_type": "code",
   "execution_count": 6,
   "id": "fca5843c",
   "metadata": {},
   "outputs": [
    {
     "name": "stdout",
     "output_type": "stream",
     "text": [
      "<class 'pandas.core.frame.DataFrame'>\n",
      "RangeIndex: 1705635 entries, 0 to 1705634\n",
      "Data columns (total 8 columns):\n",
      " #   Column      Dtype\n",
      "---  ------      -----\n",
      " 0   order_id    int64\n",
      " 1   courier_id  int64\n",
      " 2   dt          int64\n",
      " 3   da_id       int64\n",
      " 4   lng         int64\n",
      " 5   lat         int64\n",
      " 6   time        int64\n",
      " 7   event_type  int64\n",
      "dtypes: int64(8)\n",
      "memory usage: 104.1 MB\n"
     ]
    }
   ],
   "source": [
    "courier_timeline.info()"
   ]
  },
  {
   "cell_type": "code",
   "execution_count": 7,
   "id": "74f0e079",
   "metadata": {},
   "outputs": [
    {
     "data": {
      "text/html": [
       "<div>\n",
       "<style scoped>\n",
       "    .dataframe tbody tr th:only-of-type {\n",
       "        vertical-align: middle;\n",
       "    }\n",
       "\n",
       "    .dataframe tbody tr th {\n",
       "        vertical-align: top;\n",
       "    }\n",
       "\n",
       "    .dataframe thead th {\n",
       "        text-align: right;\n",
       "    }\n",
       "</style>\n",
       "<table border=\"1\" class=\"dataframe\">\n",
       "  <thead>\n",
       "    <tr style=\"text-align: right;\">\n",
       "      <th></th>\n",
       "      <th>da_id</th>\n",
       "      <th>lat_min</th>\n",
       "      <th>lat_max</th>\n",
       "      <th>lng_min</th>\n",
       "      <th>lng_max</th>\n",
       "    </tr>\n",
       "  </thead>\n",
       "  <tbody>\n",
       "    <tr>\n",
       "      <th>0</th>\n",
       "      <td>0</td>\n",
       "      <td>45761739</td>\n",
       "      <td>46021132</td>\n",
       "      <td>174387310</td>\n",
       "      <td>174794674</td>\n",
       "    </tr>\n",
       "    <tr>\n",
       "      <th>1</th>\n",
       "      <td>1</td>\n",
       "      <td>45818207</td>\n",
       "      <td>46078385</td>\n",
       "      <td>174428193</td>\n",
       "      <td>174650464</td>\n",
       "    </tr>\n",
       "    <tr>\n",
       "      <th>2</th>\n",
       "      <td>2</td>\n",
       "      <td>45772291</td>\n",
       "      <td>45942500</td>\n",
       "      <td>174442646</td>\n",
       "      <td>174649182</td>\n",
       "    </tr>\n",
       "    <tr>\n",
       "      <th>3</th>\n",
       "      <td>3</td>\n",
       "      <td>45870077</td>\n",
       "      <td>45944307</td>\n",
       "      <td>174501771</td>\n",
       "      <td>174584227</td>\n",
       "    </tr>\n",
       "    <tr>\n",
       "      <th>4</th>\n",
       "      <td>4</td>\n",
       "      <td>45729124</td>\n",
       "      <td>45944991</td>\n",
       "      <td>174446881</td>\n",
       "      <td>174742491</td>\n",
       "    </tr>\n",
       "    <tr>\n",
       "      <th>5</th>\n",
       "      <td>5</td>\n",
       "      <td>45792123</td>\n",
       "      <td>46018159</td>\n",
       "      <td>174446693</td>\n",
       "      <td>174669627</td>\n",
       "    </tr>\n",
       "    <tr>\n",
       "      <th>6</th>\n",
       "      <td>6</td>\n",
       "      <td>46023787</td>\n",
       "      <td>46079853</td>\n",
       "      <td>174919725</td>\n",
       "      <td>174999535</td>\n",
       "    </tr>\n",
       "    <tr>\n",
       "      <th>7</th>\n",
       "      <td>7</td>\n",
       "      <td>45824995</td>\n",
       "      <td>45895075</td>\n",
       "      <td>174495452</td>\n",
       "      <td>174611425</td>\n",
       "    </tr>\n",
       "    <tr>\n",
       "      <th>8</th>\n",
       "      <td>8</td>\n",
       "      <td>45873312</td>\n",
       "      <td>45932546</td>\n",
       "      <td>174544185</td>\n",
       "      <td>174607451</td>\n",
       "    </tr>\n",
       "    <tr>\n",
       "      <th>9</th>\n",
       "      <td>9</td>\n",
       "      <td>45801945</td>\n",
       "      <td>45980095</td>\n",
       "      <td>174474198</td>\n",
       "      <td>174735894</td>\n",
       "    </tr>\n",
       "    <tr>\n",
       "      <th>10</th>\n",
       "      <td>10</td>\n",
       "      <td>45835474</td>\n",
       "      <td>45886540</td>\n",
       "      <td>174560974</td>\n",
       "      <td>174636168</td>\n",
       "    </tr>\n",
       "    <tr>\n",
       "      <th>11</th>\n",
       "      <td>11</td>\n",
       "      <td>45859104</td>\n",
       "      <td>45954140</td>\n",
       "      <td>174382615</td>\n",
       "      <td>174578957</td>\n",
       "    </tr>\n",
       "    <tr>\n",
       "      <th>12</th>\n",
       "      <td>12</td>\n",
       "      <td>45813333</td>\n",
       "      <td>45961152</td>\n",
       "      <td>174423008</td>\n",
       "      <td>174648639</td>\n",
       "    </tr>\n",
       "    <tr>\n",
       "      <th>13</th>\n",
       "      <td>13</td>\n",
       "      <td>45805849</td>\n",
       "      <td>45947439</td>\n",
       "      <td>174476699</td>\n",
       "      <td>174676295</td>\n",
       "    </tr>\n",
       "    <tr>\n",
       "      <th>14</th>\n",
       "      <td>14</td>\n",
       "      <td>45865127</td>\n",
       "      <td>45922700</td>\n",
       "      <td>174545138</td>\n",
       "      <td>174622358</td>\n",
       "    </tr>\n",
       "    <tr>\n",
       "      <th>15</th>\n",
       "      <td>15</td>\n",
       "      <td>45850071</td>\n",
       "      <td>45900081</td>\n",
       "      <td>174498487</td>\n",
       "      <td>174592347</td>\n",
       "    </tr>\n",
       "    <tr>\n",
       "      <th>16</th>\n",
       "      <td>16</td>\n",
       "      <td>45850068</td>\n",
       "      <td>45905890</td>\n",
       "      <td>174590493</td>\n",
       "      <td>174669645</td>\n",
       "    </tr>\n",
       "    <tr>\n",
       "      <th>17</th>\n",
       "      <td>17</td>\n",
       "      <td>45844516</td>\n",
       "      <td>45903532</td>\n",
       "      <td>174566559</td>\n",
       "      <td>174676935</td>\n",
       "    </tr>\n",
       "    <tr>\n",
       "      <th>18</th>\n",
       "      <td>18</td>\n",
       "      <td>45742137</td>\n",
       "      <td>45793207</td>\n",
       "      <td>174533272</td>\n",
       "      <td>174593686</td>\n",
       "    </tr>\n",
       "    <tr>\n",
       "      <th>19</th>\n",
       "      <td>19</td>\n",
       "      <td>45866160</td>\n",
       "      <td>45929310</td>\n",
       "      <td>174528247</td>\n",
       "      <td>174596135</td>\n",
       "    </tr>\n",
       "    <tr>\n",
       "      <th>20</th>\n",
       "      <td>20</td>\n",
       "      <td>45835178</td>\n",
       "      <td>45890659</td>\n",
       "      <td>174493685</td>\n",
       "      <td>174572408</td>\n",
       "    </tr>\n",
       "    <tr>\n",
       "      <th>21</th>\n",
       "      <td>21</td>\n",
       "      <td>45802258</td>\n",
       "      <td>45897861</td>\n",
       "      <td>174416268</td>\n",
       "      <td>174590304</td>\n",
       "    </tr>\n",
       "    <tr>\n",
       "      <th>22</th>\n",
       "      <td>22</td>\n",
       "      <td>45793191</td>\n",
       "      <td>45842196</td>\n",
       "      <td>174517102</td>\n",
       "      <td>174617695</td>\n",
       "    </tr>\n",
       "  </tbody>\n",
       "</table>\n",
       "</div>"
      ],
      "text/plain": [
       "    da_id   lat_min   lat_max    lng_min    lng_max\n",
       "0       0  45761739  46021132  174387310  174794674\n",
       "1       1  45818207  46078385  174428193  174650464\n",
       "2       2  45772291  45942500  174442646  174649182\n",
       "3       3  45870077  45944307  174501771  174584227\n",
       "4       4  45729124  45944991  174446881  174742491\n",
       "5       5  45792123  46018159  174446693  174669627\n",
       "6       6  46023787  46079853  174919725  174999535\n",
       "7       7  45824995  45895075  174495452  174611425\n",
       "8       8  45873312  45932546  174544185  174607451\n",
       "9       9  45801945  45980095  174474198  174735894\n",
       "10     10  45835474  45886540  174560974  174636168\n",
       "11     11  45859104  45954140  174382615  174578957\n",
       "12     12  45813333  45961152  174423008  174648639\n",
       "13     13  45805849  45947439  174476699  174676295\n",
       "14     14  45865127  45922700  174545138  174622358\n",
       "15     15  45850071  45900081  174498487  174592347\n",
       "16     16  45850068  45905890  174590493  174669645\n",
       "17     17  45844516  45903532  174566559  174676935\n",
       "18     18  45742137  45793207  174533272  174593686\n",
       "19     19  45866160  45929310  174528247  174596135\n",
       "20     20  45835178  45890659  174493685  174572408\n",
       "21     21  45802258  45897861  174416268  174590304\n",
       "22     22  45793191  45842196  174517102  174617695"
      ]
     },
     "execution_count": 7,
     "metadata": {},
     "output_type": "execute_result"
    }
   ],
   "source": [
    "region_bounds = courier_timeline.groupby(\"da_id\").agg(\n",
    "    lat_min=(\"lat\", \"min\"),\n",
    "    lat_max=(\"lat\", \"max\"),\n",
    "    lng_min=(\"lng\", \"min\"),\n",
    "    lng_max=(\"lng\", \"max\"),\n",
    ").reset_index()\n",
    "\n",
    "region_bounds"
   ]
  },
  {
   "cell_type": "markdown",
   "id": "1e913c5c",
   "metadata": {},
   "source": [
    "# Data Segmentation"
   ]
  },
  {
   "cell_type": "markdown",
   "id": "50b6525a",
   "metadata": {},
   "source": [
    "## Initial creation courier_timeline"
   ]
  },
  {
   "cell_type": "code",
   "execution_count": 7,
   "id": "712383af",
   "metadata": {},
   "outputs": [
    {
     "data": {
      "text/html": [
       "<div>\n",
       "<style scoped>\n",
       "    .dataframe tbody tr th:only-of-type {\n",
       "        vertical-align: middle;\n",
       "    }\n",
       "\n",
       "    .dataframe tbody tr th {\n",
       "        vertical-align: top;\n",
       "    }\n",
       "\n",
       "    .dataframe thead th {\n",
       "        text-align: right;\n",
       "    }\n",
       "</style>\n",
       "<table border=\"1\" class=\"dataframe\">\n",
       "  <thead>\n",
       "    <tr style=\"text-align: right;\">\n",
       "      <th></th>\n",
       "      <th>order_id</th>\n",
       "      <th>courier_id</th>\n",
       "      <th>dt</th>\n",
       "      <th>da_id</th>\n",
       "      <th>lng</th>\n",
       "      <th>lat</th>\n",
       "      <th>time</th>\n",
       "      <th>event_type</th>\n",
       "    </tr>\n",
       "  </thead>\n",
       "  <tbody>\n",
       "    <tr>\n",
       "      <th>45341</th>\n",
       "      <td>51383</td>\n",
       "      <td>247</td>\n",
       "      <td>20221017</td>\n",
       "      <td>0</td>\n",
       "      <td>174556864</td>\n",
       "      <td>45867384</td>\n",
       "      <td>1665936060</td>\n",
       "      <td>0</td>\n",
       "    </tr>\n",
       "    <tr>\n",
       "      <th>497263</th>\n",
       "      <td>503828</td>\n",
       "      <td>864</td>\n",
       "      <td>20221017</td>\n",
       "      <td>19</td>\n",
       "      <td>174561019</td>\n",
       "      <td>45895660</td>\n",
       "      <td>1665936061</td>\n",
       "      <td>0</td>\n",
       "    </tr>\n",
       "    <tr>\n",
       "      <th>350072</th>\n",
       "      <td>365519</td>\n",
       "      <td>1174</td>\n",
       "      <td>20221017</td>\n",
       "      <td>7</td>\n",
       "      <td>174562480</td>\n",
       "      <td>45865501</td>\n",
       "      <td>1665936111</td>\n",
       "      <td>0</td>\n",
       "    </tr>\n",
       "    <tr>\n",
       "      <th>88005</th>\n",
       "      <td>98318</td>\n",
       "      <td>1125</td>\n",
       "      <td>20221017</td>\n",
       "      <td>13</td>\n",
       "      <td>174570278</td>\n",
       "      <td>45907184</td>\n",
       "      <td>1665936118</td>\n",
       "      <td>0</td>\n",
       "    </tr>\n",
       "    <tr>\n",
       "      <th>224883</th>\n",
       "      <td>241817</td>\n",
       "      <td>4557</td>\n",
       "      <td>20221017</td>\n",
       "      <td>6</td>\n",
       "      <td>174941695</td>\n",
       "      <td>46042451</td>\n",
       "      <td>1665936120</td>\n",
       "      <td>0</td>\n",
       "    </tr>\n",
       "    <tr>\n",
       "      <th>...</th>\n",
       "      <td>...</td>\n",
       "      <td>...</td>\n",
       "      <td>...</td>\n",
       "      <td>...</td>\n",
       "      <td>...</td>\n",
       "      <td>...</td>\n",
       "      <td>...</td>\n",
       "      <td>...</td>\n",
       "    </tr>\n",
       "    <tr>\n",
       "      <th>1313320</th>\n",
       "      <td>191881</td>\n",
       "      <td>1139</td>\n",
       "      <td>20221024</td>\n",
       "      <td>9</td>\n",
       "      <td>174669342</td>\n",
       "      <td>45870288</td>\n",
       "      <td>1666629765</td>\n",
       "      <td>2</td>\n",
       "    </tr>\n",
       "    <tr>\n",
       "      <th>1569350</th>\n",
       "      <td>443596</td>\n",
       "      <td>1732</td>\n",
       "      <td>20221024</td>\n",
       "      <td>11</td>\n",
       "      <td>174551849</td>\n",
       "      <td>45903028</td>\n",
       "      <td>1666629835</td>\n",
       "      <td>2</td>\n",
       "    </tr>\n",
       "    <tr>\n",
       "      <th>1495708</th>\n",
       "      <td>373731</td>\n",
       "      <td>2033</td>\n",
       "      <td>20221024</td>\n",
       "      <td>9</td>\n",
       "      <td>174645449</td>\n",
       "      <td>45901584</td>\n",
       "      <td>1666629851</td>\n",
       "      <td>2</td>\n",
       "    </tr>\n",
       "    <tr>\n",
       "      <th>1651320</th>\n",
       "      <td>519348</td>\n",
       "      <td>325</td>\n",
       "      <td>20221024</td>\n",
       "      <td>1</td>\n",
       "      <td>174492819</td>\n",
       "      <td>45905498</td>\n",
       "      <td>1666629861</td>\n",
       "      <td>2</td>\n",
       "    </tr>\n",
       "    <tr>\n",
       "      <th>1350499</th>\n",
       "      <td>230131</td>\n",
       "      <td>1647</td>\n",
       "      <td>20221024</td>\n",
       "      <td>9</td>\n",
       "      <td>174634161</td>\n",
       "      <td>45880001</td>\n",
       "      <td>1666629978</td>\n",
       "      <td>2</td>\n",
       "    </tr>\n",
       "  </tbody>\n",
       "</table>\n",
       "<p>1705635 rows × 8 columns</p>\n",
       "</div>"
      ],
      "text/plain": [
       "         order_id  courier_id        dt  da_id        lng       lat  \\\n",
       "45341       51383         247  20221017      0  174556864  45867384   \n",
       "497263     503828         864  20221017     19  174561019  45895660   \n",
       "350072     365519        1174  20221017      7  174562480  45865501   \n",
       "88005       98318        1125  20221017     13  174570278  45907184   \n",
       "224883     241817        4557  20221017      6  174941695  46042451   \n",
       "...           ...         ...       ...    ...        ...       ...   \n",
       "1313320    191881        1139  20221024      9  174669342  45870288   \n",
       "1569350    443596        1732  20221024     11  174551849  45903028   \n",
       "1495708    373731        2033  20221024      9  174645449  45901584   \n",
       "1651320    519348         325  20221024      1  174492819  45905498   \n",
       "1350499    230131        1647  20221024      9  174634161  45880001   \n",
       "\n",
       "               time  event_type  \n",
       "45341    1665936060           0  \n",
       "497263   1665936061           0  \n",
       "350072   1665936111           0  \n",
       "88005    1665936118           0  \n",
       "224883   1665936120           0  \n",
       "...             ...         ...  \n",
       "1313320  1666629765           2  \n",
       "1569350  1666629835           2  \n",
       "1495708  1666629851           2  \n",
       "1651320  1666629861           2  \n",
       "1350499  1666629978           2  \n",
       "\n",
       "[1705635 rows x 8 columns]"
      ]
     },
     "execution_count": 7,
     "metadata": {},
     "output_type": "execute_result"
    }
   ],
   "source": [
    "courier_grab_timeline = courier_order_timeline[[\"order_id\", \"courier_id\", \"dt\", \"da_id\", \"grab_lng\", \"grab_lat\", \"grab_time\"]].rename(columns={\"grab_lng\": \"lng\", \"grab_lat\": \"lat\", \"grab_time\": \"time\"})\n",
    "courier_grab_timeline[\"event_type\"] = 0\n",
    "\n",
    "courier_fetch_timeline = courier_order_timeline[[\"order_id\", \"courier_id\", \"dt\", \"da_id\", \"sender_lng\", \"sender_lat\", \"fetch_time\"]].rename(columns={\"sender_lng\": \"lng\", \"sender_lat\": \"lat\", \"fetch_time\": \"time\"})\n",
    "courier_fetch_timeline[\"event_type\"] = 1\n",
    "\n",
    "courier_arrive_timeline = courier_order_timeline[[\"order_id\", \"courier_id\", \"dt\", \"da_id\", \"recipient_lng\", \"recipient_lat\", \"arrive_time\"]].rename(columns={\"recipient_lng\": \"lng\", \"recipient_lat\": \"lat\", \"arrive_time\": \"time\"})\n",
    "courier_arrive_timeline[\"event_type\"] = 2\n",
    "\n",
    "courier_timeline = pd.concat([courier_grab_timeline, courier_fetch_timeline, courier_arrive_timeline], axis=0, ignore_index=True)\n",
    "\n",
    "# print(courier_timeline[courier_timeline[\"time\"] == 0]) # Dropping 1 order (id=225004), as it is the only one with missing timestamp\n",
    "courier_timeline = courier_timeline[courier_timeline[\"order_id\"] != 225004]\n",
    "\n",
    "courier_timeline = courier_timeline.sort_values([\"time\"])\n",
    "\n",
    "courier_timeline"
   ]
  },
  {
   "cell_type": "code",
   "execution_count": null,
   "id": "aa649017",
   "metadata": {},
   "outputs": [],
   "source": [
    "courier_timeline.to_csv(\"courier_timeline.csv\", index=False)"
   ]
  },
  {
   "cell_type": "markdown",
   "id": "34612455",
   "metadata": {},
   "source": [
    "## Further Segmentation"
   ]
  },
  {
   "cell_type": "code",
   "execution_count": 3,
   "id": "537e42e6",
   "metadata": {},
   "outputs": [
    {
     "data": {
      "text/plain": [
       "order_id      568545\n",
       "courier_id      4901\n",
       "dt                 8\n",
       "da_id             23\n",
       "lng           148076\n",
       "lat           139740\n",
       "time          458583\n",
       "event_type         3\n",
       "dtype: int64"
      ]
     },
     "execution_count": 3,
     "metadata": {},
     "output_type": "execute_result"
    }
   ],
   "source": [
    "courier_timeline.nunique()"
   ]
  },
  {
   "cell_type": "code",
   "execution_count": 4,
   "id": "6880540f",
   "metadata": {},
   "outputs": [
    {
     "name": "stdout",
     "output_type": "stream",
     "text": [
      "<class 'pandas.core.frame.DataFrame'>\n",
      "RangeIndex: 1705635 entries, 0 to 1705634\n",
      "Data columns (total 8 columns):\n",
      " #   Column      Dtype\n",
      "---  ------      -----\n",
      " 0   order_id    int64\n",
      " 1   courier_id  int64\n",
      " 2   dt          int64\n",
      " 3   da_id       int64\n",
      " 4   lng         int64\n",
      " 5   lat         int64\n",
      " 6   time        int64\n",
      " 7   event_type  int64\n",
      "dtypes: int64(8)\n",
      "memory usage: 104.1 MB\n"
     ]
    }
   ],
   "source": [
    "courier_timeline.info()"
   ]
  },
  {
   "cell_type": "code",
   "execution_count": null,
   "id": "ec2f2f49",
   "metadata": {},
   "outputs": [
    {
     "name": "stdout",
     "output_type": "stream",
     "text": [
      "2022-10-21 00:28:50+08:00\n"
     ]
    }
   ],
   "source": [
    "print(timestamp_to_datetime(1666283330))"
   ]
  },
  {
   "cell_type": "code",
   "execution_count": 7,
   "id": "1c879814",
   "metadata": {},
   "outputs": [
    {
     "data": {
      "text/plain": [
       "(1665936060, 1666629978)"
      ]
     },
     "execution_count": 7,
     "metadata": {},
     "output_type": "execute_result"
    }
   ],
   "source": [
    "courier_timeline[\"time\"].min(), courier_timeline[\"time\"].max()"
   ]
  },
  {
   "cell_type": "code",
   "execution_count": 8,
   "id": "726add9c",
   "metadata": {},
   "outputs": [
    {
     "name": "stdout",
     "output_type": "stream",
     "text": [
      "2022-10-17 00:01:00+08:00\n",
      "2022-10-25 00:46:18+08:00\n"
     ]
    }
   ],
   "source": [
    "print(timestamp_to_datetime(1665936060))\n",
    "print(timestamp_to_datetime(1666629978))"
   ]
  },
  {
   "cell_type": "markdown",
   "id": "6af424fc",
   "metadata": {},
   "source": [
    "# Linear Interpolation of Courier Locations"
   ]
  },
  {
   "cell_type": "code",
   "execution_count": 22,
   "id": "aa3837f2",
   "metadata": {},
   "outputs": [
    {
     "name": "stderr",
     "output_type": "stream",
     "text": [
      "100%|██████████| 3561/3561 [00:56<00:00, 62.89it/s]\n",
      "100%|██████████| 3629/3629 [00:55<00:00, 65.23it/s]\n",
      "100%|██████████| 3664/3664 [00:56<00:00, 65.15it/s]\n",
      "100%|██████████| 3670/3670 [00:53<00:00, 69.19it/s]\n",
      "100%|██████████| 3674/3674 [00:53<00:00, 69.07it/s]\n",
      "100%|██████████| 3634/3634 [00:56<00:00, 64.70it/s]\n",
      "100%|██████████| 3550/3550 [00:51<00:00, 68.42it/s]\n",
      "100%|██████████| 3541/3541 [00:50<00:00, 70.32it/s]\n"
     ]
    }
   ],
   "source": [
    "def impute_courier(courier_id, dt):\n",
    "    tmp = courier_timeline[(courier_timeline[\"courier_id\"] == courier_id) & (courier_timeline[\"dt\"] == dt)].copy().sort_values(\"time\")[[\"courier_id\", \"dt\", \"lng\", \"lat\", \"time\"]]\n",
    "\n",
    "    lowest = tmp.iloc[0][\"time\"] + 10 - (tmp.iloc[0][\"time\"]%10)\n",
    "    highest = tmp.iloc[-1][\"time\"] - 10 - (tmp.iloc[-1][\"time\"]%10)\n",
    "\n",
    "    tmp2 = pd.DataFrame.from_dict({\n",
    "        \"courier_id\": courier_id,\n",
    "        \"dt\": dt,\n",
    "        # \"da_id\": ,\n",
    "        \"lng\": np.nan,\n",
    "        \"lat\": np.nan,\n",
    "        \"time\": list(range(lowest, highest, 10))\n",
    "    })\n",
    "\n",
    "    dense = pd.concat([tmp, tmp2], ignore_index=True)\n",
    "\n",
    "    dense[\"datetime\"] = pd.to_datetime(dense[\"time\"], unit='s')\n",
    "\n",
    "    # Make sure \"time\" is the index\n",
    "    dense = dense.sort_values(\"datetime\").set_index(\"datetime\")\n",
    "\n",
    "    # Interpolate along time axis\n",
    "    dense[[\"lng\", \"lat\"]] = dense[[\"lng\", \"lat\"]].interpolate(method=\"time\")\n",
    "\n",
    "    filled = dense[dense[\"time\"].isin(tmp2[\"time\"])].reset_index()\n",
    "\n",
    "    return filled\n",
    "\n",
    "c_dt = courier_timeline[[\"courier_id\", \"dt\"]].copy().drop_duplicates()\n",
    "\n",
    "dts = courier_timeline[\"dt\"].copy().drop_duplicates()\n",
    "\n",
    "interpolated_data = {\n",
    "    dt: {} for dt in dts.to_list()\n",
    "}\n",
    "\n",
    "for dt in interpolated_data:\n",
    "    for c in tqdm(c_dt[c_dt[\"dt\"] == dt][\"courier_id\"]):\n",
    "        interpolated_data[dt][c] = impute_courier(c, dt)"
   ]
  },
  {
   "cell_type": "code",
   "execution_count": 24,
   "id": "6ad95439",
   "metadata": {},
   "outputs": [
    {
     "name": "stderr",
     "output_type": "stream",
     "text": [
      "100%|██████████| 8/8 [00:56<00:00,  7.03s/it]\n"
     ]
    }
   ],
   "source": [
    "for dt in tqdm(interpolated_data.keys()):\n",
    "    with open(f\"data/interpolated_data_{dt}.pkl\", \"wb\") as f:\n",
    "        pickle.dump(interpolated_data[dt], f)"
   ]
  },
  {
   "cell_type": "code",
   "execution_count": null,
   "id": "76ffd0d5",
   "metadata": {},
   "outputs": [],
   "source": [
    "# combined_df = pd.concat([(pd.concat([interpolated_data[dt][c] for c in interpolated_data[dt].keys()], axis=0)) for dt in interpolated_data.keys()], axis=0)\n",
    "combined_df = None\n",
    "for dt in tqdm(interpolated_data.keys()):\n",
    "    combined_df = pd.concat([interpolated_data[dt][c] for c in interpolated_data[dt].keys()], axis=0)\n",
    "    # combined_df.to_csv(f\"data_csv/combined_couriers_{dt}.csv\")\n",
    "    with open(f\"data_csv/combined_couriers_{dt}.pkl\", \"wb\") as f:\n",
    "        pickle.dump(combined_df, f)\n",
    "    # combined_df.to_csv(f\"data_csv/combined_couriers_{dt}.csv\")"
   ]
  },
  {
   "cell_type": "code",
   "execution_count": 24,
   "id": "2ce6ec4a",
   "metadata": {},
   "outputs": [],
   "source": [
    "with open(\"data_csv/combined_couriers_20221017.pkl\", \"rb\") as f:\n",
    "    tmp = pickle.load(f)\n",
    "    tmp.to_csv(f\"data_csv/combined_couriers_20221017.csv\")"
   ]
  },
  {
   "cell_type": "code",
   "execution_count": null,
   "id": "35cd2486",
   "metadata": {},
   "outputs": [],
   "source": [
    "import glob\n",
    "\n",
    "files = glob.glob(\"data_csv/*.csv\")\n",
    "\n",
    "# write first file with header\n",
    "first = True\n",
    "with open(\"combined.csv\", \"w\") as fout:\n",
    "    for f in files:\n",
    "        for i, chunk in tqdm(enumerate(pd.read_csv(f, index_col=0, chunksize=100_000))):\n",
    "            # write header only once\n",
    "            chunk.to_csv(fout, index=False, header=first)\n",
    "            first = False"
   ]
  },
  {
   "cell_type": "markdown",
   "id": "45bd814b",
   "metadata": {},
   "source": [
    "# Plotting Courier Locations"
   ]
  },
  {
   "cell_type": "code",
   "execution_count": 8,
   "id": "163c9364",
   "metadata": {},
   "outputs": [],
   "source": [
    "with open(\"data/intervaled_courier_timeline.pkl\", \"rb\") as f:\n",
    "    intervaled_courier_timeline: pd.DataFrame = pickle.load(f)"
   ]
  },
  {
   "cell_type": "code",
   "execution_count": 9,
   "id": "f403ec90",
   "metadata": {},
   "outputs": [],
   "source": [
    "timestamp_min = intervaled_courier_timeline[\"time\"].min()\n",
    "timestamp_max = intervaled_courier_timeline[\"time\"].max()"
   ]
  },
  {
   "cell_type": "code",
   "execution_count": 10,
   "id": "5dd0ef26",
   "metadata": {},
   "outputs": [
    {
     "name": "stdout",
     "output_type": "stream",
     "text": [
      "<class 'pandas.core.frame.DataFrame'>\n",
      "Index: 92225664 entries, 0 to 126\n",
      "Data columns (total 6 columns):\n",
      " #   Column      Dtype         \n",
      "---  ------      -----         \n",
      " 0   datetime    datetime64[ns]\n",
      " 1   courier_id  int64         \n",
      " 2   dt          int64         \n",
      " 3   lng         float64       \n",
      " 4   lat         float64       \n",
      " 5   time        int64         \n",
      "dtypes: datetime64[ns](1), float64(2), int64(3)\n",
      "memory usage: 4.8 GB\n"
     ]
    }
   ],
   "source": [
    "intervaled_courier_timeline.info()"
   ]
  },
  {
   "cell_type": "code",
   "execution_count": 12,
   "id": "0b962403",
   "metadata": {},
   "outputs": [],
   "source": [
    "def get_snapshot(timestamp: int):\n",
    "    if (timestamp % 10) != 0:\n",
    "        raise Exception(\"Timestamp not recorded\")\n",
    "    \n",
    "    orders = {\n",
    "        \"grabbed\": courier_order_timeline[(courier_order_timeline[\"grab_time\"] <= timestamp) & (courier_order_timeline[\"fetch_time\"] >= timestamp) & (courier_order_timeline[\"arrive_time\"] >= timestamp)],\n",
    "        \"fetched\": courier_order_timeline[(courier_order_timeline[\"grab_time\"] <= timestamp) & (courier_order_timeline[\"fetch_time\"] <= timestamp) & (courier_order_timeline[\"arrive_time\"] >= timestamp)],\n",
    "    }\n",
    "\n",
    "    known_couriers = intervaled_courier_timeline[intervaled_courier_timeline[\"time\"] == timestamp].copy()\n",
    "\n",
    "    known_couriers = known_couriers.join(\n",
    "        orders[\"grabbed\"][\"courier_id\"].value_counts().rename(\"orders_grabbed\"),\n",
    "        on=\"courier_id\"\n",
    "    ).fillna({\"orders_grabbed\": 0}).astype({\"orders_grabbed\": int})\n",
    "\n",
    "    known_couriers = known_couriers.join(\n",
    "        orders[\"fetched\"][\"courier_id\"].value_counts().rename(\"orders_fetched\"),\n",
    "        on=\"courier_id\"\n",
    "    ).fillna({\"orders_fetched\": 0}).astype({\"orders_fetched\": int})\n",
    "\n",
    "    known_couriers[\"status\"] = 0 # idle\n",
    "    known_couriers.loc[(known_couriers[\"orders_grabbed\"] > 0) & (known_couriers[\"orders_fetched\"] == 0), \"status\"] = 1\n",
    "    known_couriers.loc[(known_couriers[\"orders_grabbed\"] == 0) & (known_couriers[\"orders_fetched\"] > 0), \"status\"] = 2\n",
    "    known_couriers.loc[(known_couriers[\"orders_grabbed\"] > 0) & (known_couriers[\"orders_fetched\"] > 0), \"status\"] = 3\n",
    "\n",
    "    # mask_idle = ~(known_couriers[\"courier_id\"].isin(orders[\"grabbed\"][\"courier_id\"])) & ~(known_couriers[\"courier_id\"].isin(orders[\"fetched\"][\"courier_id\"]))\n",
    "    # known_couriers.loc[mask_idle, \"status\"] = 0 # idle\n",
    "    # mask_grab = (known_couriers[\"courier_id\"].isin(orders[\"grabbed\"][\"courier_id\"])) & ~(known_couriers[\"courier_id\"].isin(orders[\"fetched\"][\"courier_id\"]))\n",
    "    # known_couriers.loc[mask_grab, \"status\"] = 1 # heading for pickup\n",
    "    # mask_pickup = ~(known_couriers[\"courier_id\"].isin(orders[\"grabbed\"][\"courier_id\"])) & (known_couriers[\"courier_id\"].isin(orders[\"fetched\"][\"courier_id\"]))\n",
    "    # known_couriers.loc[mask_pickup, \"status\"] = 2 # heading for delivery\n",
    "    # mask_both = (known_couriers[\"courier_id\"].isin(orders[\"grabbed\"][\"courier_id\"])) & (known_couriers[\"courier_id\"].isin(orders[\"fetched\"][\"courier_id\"]))\n",
    "    # known_couriers.loc[mask_both, \"status\"] = 3 # multi-orders of different statuses\n",
    "\n",
    "    return orders, known_couriers\n",
    "\n",
    "lat_bounds = courier_timeline[\"lat\"].min(), courier_timeline[\"lat\"].max()\n",
    "lng_bounds = courier_timeline[\"lng\"].min(), courier_timeline[\"lng\"].max()\n",
    "lng_range = (lng_bounds[1]-lng_bounds[0])\n",
    "lat_range = (lat_bounds[1]-lat_bounds[0])\n",
    "\n",
    "def plot_snapshot(orders: pd.DataFrame, couriers: pd.DataFrame, region_id: int):\n",
    "    couriers = couriers.copy()\n",
    "    orders_grabbed = orders[\"grabbed\"].copy()\n",
    "    orders_fetched = orders[\"fetched\"].copy()\n",
    "\n",
    "    couriers[\"lng_norm\"] = (couriers[\"lng\"] - lng_bounds[0]) / lng_range\n",
    "    couriers[\"lat_norm\"] = (couriers[\"lat\"] - lat_bounds[0]) / lat_range\n",
    "\n",
    "    orders_grabbed[\"sender_lng_norm\"] = (orders_grabbed[\"sender_lng\"] - lng_bounds[0]) / lng_range\n",
    "    orders_grabbed[\"sender_lat_norm\"] = (orders_grabbed[\"sender_lat\"] - lat_bounds[0]) / lat_range\n",
    "    orders_grabbed[\"recipient_lng_norm\"] = (orders_grabbed[\"recipient_lng\"] - lng_bounds[0]) / lng_range\n",
    "    orders_grabbed[\"recipient_lat_norm\"] = (orders_grabbed[\"recipient_lat\"] - lat_bounds[0]) / lat_range\n",
    "\n",
    "    orders_fetched[\"sender_lng_norm\"] = (orders_fetched[\"sender_lng\"] - lng_bounds[0]) / lng_range\n",
    "    orders_fetched[\"sender_lat_norm\"] = (orders_fetched[\"sender_lat\"] - lat_bounds[0]) / lat_range\n",
    "    orders_fetched[\"recipient_lng_norm\"] = (orders_fetched[\"recipient_lng\"] - lng_bounds[0]) / lng_range\n",
    "    orders_fetched[\"recipient_lat_norm\"] = (orders_fetched[\"recipient_lat\"] - lat_bounds[0]) / lat_range\n",
    "\n",
    "    region_plot_size = 8\n",
    "    plt.figure(figsize=(region_plot_size,region_plot_size))\n",
    "\n",
    "    current_region_bounds = region_bounds[region_bounds[\"da_id\"] == region_id].iloc[0]\n",
    "    current_region_bounds[\"lng_min_norm\"] = (current_region_bounds[\"lng_min\"]-lng_bounds[0]) / lng_range\n",
    "    current_region_bounds[\"lng_max_norm\"] = (current_region_bounds[\"lng_max\"]-lng_bounds[0]) / lng_range\n",
    "    current_region_bounds[\"lat_min_norm\"] = (current_region_bounds[\"lat_min\"]-lat_bounds[0]) / lat_range\n",
    "    current_region_bounds[\"lat_max_norm\"] = (current_region_bounds[\"lat_max\"]-lat_bounds[0]) / lat_range\n",
    "\n",
    "    current_couriers = couriers[\n",
    "        (couriers[\"lng\"] >= current_region_bounds[\"lng_min\"]) &\n",
    "        (couriers[\"lng\"] <= current_region_bounds[\"lng_max\"]) &\n",
    "        (couriers[\"lat\"] >= current_region_bounds[\"lat_min\"]) &\n",
    "        (couriers[\"lat\"] <= current_region_bounds[\"lat_max\"])\n",
    "    ]\n",
    "    current_orders_grabbed = orders_grabbed[orders_grabbed[\"courier_id\"].isin(current_couriers[\"courier_id\"])]\n",
    "    current_orders_fetched = orders_fetched[orders_fetched[\"courier_id\"].isin(current_couriers[\"courier_id\"])]\n",
    "\n",
    "    plt.xlim((current_region_bounds[\"lng_min_norm\"]-0.1, current_region_bounds[\"lng_max_norm\"]+0.1))\n",
    "    plt.ylim((current_region_bounds[\"lat_min_norm\"]-0.1, current_region_bounds[\"lat_max_norm\"]+0.1))\n",
    "\n",
    "    plt.scatter(current_couriers[current_couriers[\"status\"] == 0][\"lng_norm\"], current_couriers[current_couriers[\"status\"] == 0][\"lat_norm\"], c=\"b\", alpha=.2);\n",
    "    plt.scatter(current_couriers[current_couriers[\"status\"] == 1][\"lng_norm\"], current_couriers[current_couriers[\"status\"] == 1][\"lat_norm\"], c=\"g\");\n",
    "    plt.scatter(current_couriers[current_couriers[\"status\"] == 2][\"lng_norm\"], current_couriers[current_couriers[\"status\"] == 2][\"lat_norm\"], c=\"r\");\n",
    "    plt.scatter(current_couriers[current_couriers[\"status\"] == 3][\"lng_norm\"], current_couriers[current_couriers[\"status\"] == 3][\"lat_norm\"], c=\"y\");\n",
    "\n",
    "    plt.scatter(current_orders_grabbed[\"sender_lng_norm\"], current_orders_grabbed[\"sender_lat_norm\"], marker=\"s\", c=\"orange\");\n",
    "    plt.scatter(current_orders_grabbed[\"recipient_lng_norm\"], current_orders_grabbed[\"recipient_lat_norm\"], marker=\"x\", c=\"orange\");\n",
    "\n",
    "    plt.scatter(current_orders_fetched[\"sender_lng_norm\"], current_orders_fetched[\"sender_lat_norm\"], marker=\"s\", c=\"orange\");\n",
    "    plt.scatter(current_orders_fetched[\"recipient_lng_norm\"], current_orders_fetched[\"recipient_lat_norm\"], marker=\"x\", c=\"orange\");\n",
    "\n",
    "    plt.title(f\"Region {current_region_bounds[\"da_id\"]}\");"
   ]
  },
  {
   "cell_type": "code",
   "execution_count": 13,
   "id": "2902b437",
   "metadata": {},
   "outputs": [],
   "source": [
    "orders, couriers = get_snapshot(1666027350)"
   ]
  },
  {
   "cell_type": "code",
   "execution_count": 14,
   "id": "29f13378",
   "metadata": {},
   "outputs": [
    {
     "data": {
      "image/png": "[encoded data removed]",
      "text/plain": [
       "<Figure size 800x800 with 1 Axes>"
      ]
     },
     "metadata": {},
     "output_type": "display_data"
    }
   ],
   "source": [
    "plot_snapshot(orders, couriers, 0)"
   ]
  },
  {
   "cell_type": "code",
   "execution_count": 20,
   "id": "544226d1",
   "metadata": {},
   "outputs": [
    {
     "data": {
      "application/vnd.jupyter.widget-view+json": {
       "model_id": "d9fd0c70aa7a4298994ad71758e3fbe3",
       "version_major": 2,
       "version_minor": 0
      },
      "text/plain": [
       "interactive(children=(IntSlider(value=720, description='t', max=1440), Output()), _dom_classes=('widget-intera…"
      ]
     },
     "metadata": {},
     "output_type": "display_data"
    }
   ],
   "source": [
    "def plot_at_time(t):\n",
    "    timestamp = timestamp_min + 60 * t\n",
    "    # timestamp = (timestamp_max - 1440*60) + 60 * t\n",
    "    \n",
    "    orders, couriers = get_snapshot(timestamp)\n",
    "    plot_snapshot(orders, couriers, 2)\n",
    "\n",
    "    print(timestamp_to_datetime(timestamp))\n",
    "\n",
    "widgets.interact(plot_at_time, t=(0, 1440, 1));"
   ]
  },
  {
   "cell_type": "markdown",
   "id": "f64520f6",
   "metadata": {},
   "source": [
    "---"
   ]
  },
  {
   "cell_type": "code",
   "execution_count": 23,
   "id": "7f41e3c6",
   "metadata": {},
   "outputs": [],
   "source": [
    "def compile_window(timestamp_min, timestamp_max, region_id):\n",
    "    os.makedirs(\"compile_video_frames\", exist_ok=True)\n",
    "\n",
    "    timestamp_min -= timestamp_min%10\n",
    "    for timestamp in tqdm(range(timestamp_min, timestamp_max, 10)):        \n",
    "        orders, couriers = get_snapshot(timestamp)\n",
    "        plot_snapshot(orders, couriers, region_id)\n",
    "        plt.savefig(f\"compile_video_frames/frame_{timestamp}.jpg\");\n",
    "        plt.close(); \n",
    "\n",
    "    frame = cv2.imread(f\"compile_video_frames/frame_{timestamp_min}.jpg\")\n",
    "\n",
    "    # max_size = 1920  # e.g. 1080p width\n",
    "    # scale = max_size / max(frame.shape[1], frame.shape[0])\n",
    "    # frame = cv2.resize(frame, None, fx=scale, fy=scale)\n",
    "\n",
    "    h, w, _ = frame.shape\n",
    "    fps = 12\n",
    "    # out = cv2.VideoWriter(\"simulation.avi\", cv2.VideoWriter_fourcc(*\"XVID\"), 10, (w, h))\n",
    "    out = cv2.VideoWriter(\n",
    "        \"output.mp4\",\n",
    "        cv2.VideoWriter_fourcc(*\"mp4v\"),  # or \"avc1\"\n",
    "        fps,\n",
    "        (w,h)\n",
    "    )\n",
    "\n",
    "    for timestamp in tqdm(range(timestamp_min, timestamp_max, 10)):\n",
    "        img = cv2.imread(f\"compile_video_frames/frame_{timestamp}.jpg\")\n",
    "        out.write(img)\n",
    "\n",
    "    out.release()"
   ]
  },
  {
   "cell_type": "code",
   "execution_count": 24,
   "id": "7f3118ce",
   "metadata": {},
   "outputs": [
    {
     "name": "stderr",
     "output_type": "stream",
     "text": [
      "100%|██████████| 360/360 [01:44<00:00,  3.45it/s]\n",
      "100%|██████████| 360/360 [00:01<00:00, 199.51it/s]\n"
     ]
    }
   ],
   "source": [
    "compile_window(timestamp_min, timestamp_min + 60*60, 2)"
   ]
  }
 ],
 "metadata": {
  "kernelspec": {
   "display_name": "Python 3",
   "language": "python",
   "name": "python3"
  },
  "language_info": {
   "codemirror_mode": {
    "name": "ipython",
    "version": 3
   },
   "file_extension": ".py",
   "mimetype": "text/x-python",
   "name": "python",
   "nbconvert_exporter": "python",
   "pygments_lexer": "ipython3",
   "version": "3.13.3"
  }
 },
 "nbformat": 4,
 "nbformat_minor": 5
}
